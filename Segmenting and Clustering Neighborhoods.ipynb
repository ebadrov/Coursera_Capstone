{
 "cells": [
  {
   "cell_type": "markdown",
   "metadata": {
    "collapsed": true
   },
   "source": [
    "## Scrape Public Website to Generate Data Frame of Location Information - Toronto Neighborhoods\n",
    "\n",
    "Using the wiki page: https://en.wikipedia.org/wiki/List_of_postal_codes_of_Canada:_M generate a pandas dataframe.\n",
    "Index + Columns: PostalCode, Borough, Neighborhood\n",
    "\n",
    "Notes on Data Wrangling:\n",
    "1. Only postal codes with the assigned burrough will be included in the dataset.  Burrough = Not Assigned or Null will not be included.\n",
    "2. Neighborhood to PostalCode is M:1.  Many neighborhoods can exist in a single zipcode.\n",
    "3. PostalCodes with more than one neighborhood will be combined in a single record.  All neighborhoods within the postalcode will be combined into the Neighborhood column for that record as a comma seperated list.\n",
    "4. If a record has Borough that has Not assigned as a Neighborhood, the Borough Name will be replicated to the Neighborhood column.\n",
    "\n",
    "The result shall be a Pandas Dataframe Containing Data Columns and a # of Records as determined by the reporting from python on the dataframe.\n",
    "\n"
   ]
  },
  {
   "cell_type": "markdown",
   "metadata": {},
   "source": [
    "### Install HTML Parser Packages"
   ]
  },
  {
   "cell_type": "code",
   "execution_count": 2,
   "metadata": {},
   "outputs": [
    {
     "name": "stdout",
     "output_type": "stream",
     "text": [
      "Requirement already satisfied: beautifulsoup4 in /opt/conda/envs/Python-3.7-main/lib/python3.7/site-packages (4.9.1)\n",
      "Requirement already satisfied: soupsieve>1.2 in /opt/conda/envs/Python-3.7-main/lib/python3.7/site-packages (from beautifulsoup4) (2.0.1)\n",
      "Requirement already satisfied: lxml in /opt/conda/envs/Python-3.7-main/lib/python3.7/site-packages (4.5.1)\n",
      "Requirement already satisfied: html5lib in /opt/conda/envs/Python-3.7-main/lib/python3.7/site-packages (1.1)\n",
      "Requirement already satisfied: six>=1.9 in /opt/conda/envs/Python-3.7-main/lib/python3.7/site-packages (from html5lib) (1.15.0)\n",
      "Requirement already satisfied: webencodings in /opt/conda/envs/Python-3.7-main/lib/python3.7/site-packages (from html5lib) (0.5.1)\n"
     ]
    }
   ],
   "source": [
    "!pip install beautifulsoup4\n",
    "!pip install lxml\n",
    "!pip install html5lib"
   ]
  },
  {
   "cell_type": "markdown",
   "metadata": {},
   "source": [
    "### Make an HTML Request to Get Wikipedia Content, Store to BeautifulSoup Container"
   ]
  },
  {
   "cell_type": "code",
   "execution_count": 3,
   "metadata": {},
   "outputs": [],
   "source": [
    "import requests\n",
    "website_url = requests.get(\"https://en.wikipedia.org/wiki/List_of_postal_codes_of_Canada:_M\").text\n",
    "\n",
    "from bs4 import BeautifulSoup\n",
    "soup=BeautifulSoup(website_url, 'lxml')\n",
    "#print(soup.prettify())         #Visual check of content grab"
   ]
  },
  {
   "cell_type": "markdown",
   "metadata": {},
   "source": [
    "### Process BeautifulSoup into Data Table - Extract the Raw Data"
   ]
  },
  {
   "cell_type": "code",
   "execution_count": 4,
   "metadata": {},
   "outputs": [
    {
     "name": "stdout",
     "output_type": "stream",
     "text": [
      "['Postal Code', 'Borough', 'Neighbourhood']\n",
      "[['M1A', 'Not assigned', 'Not assigned'], ['M2A', 'Not assigned', 'Not assigned'], ['M3A', 'North York', 'Parkwoods'], ['M4A', 'North York', 'Victoria Village'], ['M5A', 'Downtown Toronto', 'Regent Park, Harbourfront']]\n"
     ]
    }
   ],
   "source": [
    "#Grab the table with the information\n",
    "location_info_raw=soup.find('table', {'class':'wikitable sortable'})\n",
    "#location_info_raw\n",
    "\n",
    "#Create list of all the rows to process in the table\n",
    "rows = location_info_raw.tbody.find_all('tr')\n",
    "#print(rows[0:3])\n",
    "\n",
    "#Extract the Column Headers from the th row\n",
    "headings= [] #Create empty list for column headers\n",
    "for th in rows[0].find_all(\"th\"):    #Extract text from each th and add to the headings variable.  Make sure to strip special char.\n",
    "    headings.append(th.text.replace('\\n', ' ').strip())    \n",
    "print(headings)\n",
    "\n",
    "#Extract the Data Elements from the td cells in each row, skipping the first tr that contains the headers\n",
    "table_data_rows = []  # Create empty list of table data\n",
    "for table_row in rows[1:]:\n",
    "    #print(table_row)\n",
    "    columns=table_row.find_all(\"td\")\n",
    "    row_content=[]\n",
    "    for column in columns:\n",
    "        row_content.append(column.text.replace('\\n', \" \").strip())\n",
    "    table_data_rows.append(row_content)\n",
    "print(table_data_rows[0:5])        "
   ]
  },
  {
   "cell_type": "markdown",
   "metadata": {},
   "source": [
    "### Create the Pandas Dataframe from the raw data"
   ]
  },
  {
   "cell_type": "code",
   "execution_count": 67,
   "metadata": {},
   "outputs": [
    {
     "name": "stdout",
     "output_type": "stream",
     "text": [
      "(180, 3)\n"
     ]
    },
    {
     "data": {
      "text/html": [
       "<div>\n",
       "<style scoped>\n",
       "    .dataframe tbody tr th:only-of-type {\n",
       "        vertical-align: middle;\n",
       "    }\n",
       "\n",
       "    .dataframe tbody tr th {\n",
       "        vertical-align: top;\n",
       "    }\n",
       "\n",
       "    .dataframe thead th {\n",
       "        text-align: right;\n",
       "    }\n",
       "</style>\n",
       "<table border=\"1\" class=\"dataframe\">\n",
       "  <thead>\n",
       "    <tr style=\"text-align: right;\">\n",
       "      <th></th>\n",
       "      <th>Postal Code</th>\n",
       "      <th>Borough</th>\n",
       "      <th>Neighbourhood</th>\n",
       "    </tr>\n",
       "  </thead>\n",
       "  <tbody>\n",
       "    <tr>\n",
       "      <th>0</th>\n",
       "      <td>M1A</td>\n",
       "      <td>Not assigned</td>\n",
       "      <td>Not assigned</td>\n",
       "    </tr>\n",
       "    <tr>\n",
       "      <th>1</th>\n",
       "      <td>M2A</td>\n",
       "      <td>Not assigned</td>\n",
       "      <td>Not assigned</td>\n",
       "    </tr>\n",
       "    <tr>\n",
       "      <th>2</th>\n",
       "      <td>M3A</td>\n",
       "      <td>North York</td>\n",
       "      <td>Parkwoods</td>\n",
       "    </tr>\n",
       "    <tr>\n",
       "      <th>3</th>\n",
       "      <td>M4A</td>\n",
       "      <td>North York</td>\n",
       "      <td>Victoria Village</td>\n",
       "    </tr>\n",
       "    <tr>\n",
       "      <th>4</th>\n",
       "      <td>M5A</td>\n",
       "      <td>Downtown Toronto</td>\n",
       "      <td>Regent Park, Harbourfront</td>\n",
       "    </tr>\n",
       "  </tbody>\n",
       "</table>\n",
       "</div>"
      ],
      "text/plain": [
       "  Postal Code           Borough              Neighbourhood\n",
       "0         M1A      Not assigned               Not assigned\n",
       "1         M2A      Not assigned               Not assigned\n",
       "2         M3A        North York                  Parkwoods\n",
       "3         M4A        North York           Victoria Village\n",
       "4         M5A  Downtown Toronto  Regent Park, Harbourfront"
      ]
     },
     "execution_count": 67,
     "metadata": {},
     "output_type": "execute_result"
    }
   ],
   "source": [
    "import pandas as pd\n",
    "import numpy as np\n",
    "df=pd.DataFrame(table_data_rows, columns=headings)\n",
    "\n",
    "print(df.shape)\n",
    "df.head()"
   ]
  },
  {
   "cell_type": "markdown",
   "metadata": {},
   "source": [
    "### Clean the Data Frame Values"
   ]
  },
  {
   "cell_type": "code",
   "execution_count": 92,
   "metadata": {},
   "outputs": [
    {
     "data": {
      "text/plain": [
       "(103, 3)"
      ]
     },
     "execution_count": 92,
     "metadata": {},
     "output_type": "execute_result"
    }
   ],
   "source": [
    "#Remove Records with Borough values = Not assigned\n",
    "df.drop(df[(df['Borough'] == 'Not assigned')].index, inplace = True) \n",
    "df.shape"
   ]
  },
  {
   "cell_type": "code",
   "execution_count": 104,
   "metadata": {},
   "outputs": [
    {
     "name": "stdout",
     "output_type": "stream",
     "text": [
      "There are 0 unassigned neighbourhood names.\n",
      "There are 0 duplicate postal codes.\n"
     ]
    }
   ],
   "source": [
    "#Add Borough Name to Any Unassigned Neighborhood Names\n",
    "#df.nunique(axis=1)\n",
    "\n",
    "#Find Neighborhoods labelled unassigned.\n",
    "unassigned_list=[]\n",
    "for ind in df.index:\n",
    "    if df['Neighbourhood'][ind] == \"Not assigned\":\n",
    "        unassigned_list.append([df['Postal Code'][ind], df['Borough'][ind]])\n",
    "print(\"There are {} unassigned neighbourhood names.\".format(len(unassigned_list)))\n",
    "\n",
    "#Find duplicate Postal Code instances.  Find their index and combine their neighborhood values.\n",
    "zip_list=[]\n",
    "appears_multiple=[]\n",
    "\n",
    "for ind in df.index:\n",
    "    if df['Postal Code'][ind] not in zip_list:\n",
    "        zip_list.append(df['Postal Code'][ind])\n",
    "    else: \n",
    "        appears_multiple.append(df['Postal Code'][ind])\n",
    "    #print(df['Postal Code'][ind], df['Borough'][ind]) \n",
    "    \n",
    "print(\"There are {} duplicate postal codes.\".format(len(appears_multiple)))"
   ]
  },
  {
   "cell_type": "markdown",
   "metadata": {},
   "source": [
    "A note about multiple postal codes vs instructions.  In the dataset each zip code is unique.  There are not situations where multiple neighborhoods need to be added to the same zip code to eliminate redundancy.   Someone on the wiki has already combined the neighbourhoods into their Postal Code list"
   ]
  },
  {
   "cell_type": "code",
   "execution_count": 105,
   "metadata": {},
   "outputs": [
    {
     "data": {
      "text/plain": [
       "(103, 3)"
      ]
     },
     "execution_count": 105,
     "metadata": {},
     "output_type": "execute_result"
    }
   ],
   "source": [
    "df.shape"
   ]
  }
 ],
 "metadata": {
  "kernelspec": {
   "display_name": "Python 3.7",
   "language": "python",
   "name": "python3"
  },
  "language_info": {
   "codemirror_mode": {
    "name": "ipython",
    "version": 3
   },
   "file_extension": ".py",
   "mimetype": "text/x-python",
   "name": "python",
   "nbconvert_exporter": "python",
   "pygments_lexer": "ipython3",
   "version": "3.7.9"
  }
 },
 "nbformat": 4,
 "nbformat_minor": 1
}
