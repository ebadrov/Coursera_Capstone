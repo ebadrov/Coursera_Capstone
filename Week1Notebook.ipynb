{
 "cells": [
  {
   "cell_type": "markdown",
   "metadata": {},
   "source": [
    "# Coursera IBM Data Science Capstone\n",
    "\n",
    "This notebook is a starter file for configuring the final project of the IBM Data Science Certification.\n",
    "\n",
    "This file supports the Week 1 Assignment requirements:\n",
    "1. Write some markdown to explain that this notebook will be mainly used for the capstone project.\n",
    "2. Import the pandas library as pd.\n",
    "3. Import the Numpy library as np.\n",
    "4. Print the following the statement: Hello Capstone Project Course!\n",
    "5. Push the Notebook to Github\n",
    "6. Submit the link to the notebook on Github\n",
    "\n",
    "---"
   ]
  },
  {
   "cell_type": "markdown",
   "metadata": {},
   "source": [
    "#### .1 Write some markdown to explain that this notebook will be mainly used for the capstone project.\n",
    "\n",
    "See the section above containing markdown and markdown formatting."
   ]
  },
  {
   "cell_type": "markdown",
   "metadata": {},
   "source": [
    "#### .2 Import the pandas library as pd"
   ]
  },
  {
   "cell_type": "code",
   "execution_count": 2,
   "metadata": {},
   "outputs": [],
   "source": [
    "import pandas as pd"
   ]
  },
  {
   "cell_type": "markdown",
   "metadata": {},
   "source": [
    "#### .3 import Numpy as np"
   ]
  },
  {
   "cell_type": "code",
   "execution_count": 4,
   "metadata": {},
   "outputs": [],
   "source": [
    "import numpy as np"
   ]
  },
  {
   "cell_type": "markdown",
   "metadata": {},
   "source": [
    "#### .4 Print the following the statement: Hello Capstone Project Course!"
   ]
  },
  {
   "cell_type": "code",
   "execution_count": 6,
   "metadata": {},
   "outputs": [
    {
     "name": "stdout",
     "output_type": "stream",
     "text": [
      "Hello Capstone Project Course!\n"
     ]
    }
   ],
   "source": [
    "print('Hello Capstone Project Course!')"
   ]
  }
 ],
 "metadata": {
  "kernelspec": {
   "display_name": "Python 3",
   "language": "python",
   "name": "python3"
  },
  "language_info": {
   "codemirror_mode": {
    "name": "ipython",
    "version": 3
   },
   "file_extension": ".py",
   "mimetype": "text/x-python",
   "name": "python",
   "nbconvert_exporter": "python",
   "pygments_lexer": "ipython3",
   "version": "3.7.4"
  }
 },
 "nbformat": 4,
 "nbformat_minor": 4
}
